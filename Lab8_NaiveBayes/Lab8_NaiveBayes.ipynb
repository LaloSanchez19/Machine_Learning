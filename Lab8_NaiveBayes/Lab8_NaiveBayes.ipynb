{
 "cells": [
  {
   "cell_type": "markdown",
   "id": "3033c8fa-cdc6-4699-9395-4e43b1d43960",
   "metadata": {},
   "source": [
    "# Lab 8 Clasificador Naive Bayes"
   ]
  },
  {
   "cell_type": "code",
   "execution_count": 1,
   "id": "8a042bc7-be54-4f10-a143-49863021670d",
   "metadata": {},
   "outputs": [],
   "source": [
    "import pandas as pd\n",
    "import numpy as np\n",
    "from sklearn.model_selection import train_test_split\n",
    "from sklearn.model_selection import StratifiedKFold\n",
    "from sklearn.model_selection import LeaveOneOut\n",
    "from sklearn.metrics import confusion_matrix, accuracy_score\n",
    "from sklearn.naive_bayes import GaussianNB"
   ]
  },
  {
   "cell_type": "markdown",
   "id": "eb28d03f-a4a4-4b6c-b07a-87e864ba769c",
   "metadata": {},
   "source": [
    "## Metodos de validacion"
   ]
  },
  {
   "cell_type": "markdown",
   "id": "8677220b-9c28-4dc4-8ed0-acdb78d6698e",
   "metadata": {},
   "source": [
    "### Holdout"
   ]
  },
  {
   "cell_type": "code",
   "execution_count": 2,
   "id": "0595a528-f6a7-4238-a5b9-aa770b5f7c6c",
   "metadata": {},
   "outputs": [],
   "source": [
    "def holdout_validation(X,y):\n",
    "    X_train, X_test, y_train, y_test = train_test_split(X, y, test_size=0.3,stratify=y,random_state=42)\n",
    "    return X_train, X_test, y_train, y_test"
   ]
  },
  {
   "cell_type": "markdown",
   "id": "f2abbc55-ecc3-45b7-b547-620c3d038939",
   "metadata": {},
   "source": [
    "### Fold Cross-Validation"
   ]
  },
  {
   "cell_type": "code",
   "execution_count": 3,
   "id": "11e0fdd8-bc19-41be-a645-007c89ce669f",
   "metadata": {},
   "outputs": [],
   "source": [
    "def k_fold_cross_validation(X, y, K=10):\n",
    "    X = X.apply(pd.to_numeric, errors='coerce')\n",
    "    y = pd.to_numeric(y, errors='coerce')\n",
    "    \n",
    "    X = X.fillna(X.mean())\n",
    "    \n",
    "    skf = StratifiedKFold(n_splits=K, shuffle=True, random_state=42)\n",
    "    folds = []\n",
    "\n",
    "    for train_index, test_index in skf.split(X, y):\n",
    "        X_train, X_test = X.iloc[train_index].values, X.iloc[test_index].values\n",
    "        y_train, y_test = y.iloc[train_index].values, y.iloc[test_index].values\n",
    "        \n",
    "        folds.append((X_train, X_test, y_train, y_test))\n",
    "    \n",
    "    return folds"
   ]
  },
  {
   "cell_type": "markdown",
   "id": "a21acdd1-ee6f-4a4b-b044-66b0fee749d1",
   "metadata": {},
   "source": [
    "### Leave-One-Out"
   ]
  },
  {
   "cell_type": "code",
   "execution_count": 4,
   "id": "d23d4c82-70f0-4c73-898d-4d5b2ea9c10f",
   "metadata": {},
   "outputs": [],
   "source": [
    "def leave_one_out_validation(X, y):\n",
    "    X = X.apply(pd.to_numeric, errors='coerce')\n",
    "    X = X.fillna(X.mean())\n",
    "    \n",
    "    loo = LeaveOneOut()\n",
    "    leaveVali = []\n",
    "    \n",
    "    for train_index, test_index in loo.split(X):\n",
    "        # Tomar los datos de entrenamiento y prueba como matrices numpy\n",
    "        X_train, X_test = X.iloc[train_index].values, X.iloc[test_index].values\n",
    "        y_train, y_test = y.iloc[train_index].values, y.iloc[test_index].values\n",
    "        \n",
    "        leaveVali.append((X_train, X_test, y_train, y_test))\n",
    "\n",
    "    return leaveVali"
   ]
  },
  {
   "cell_type": "markdown",
   "id": "a359867d-36d2-49cf-9fe7-f9453b7dfb3f",
   "metadata": {},
   "source": [
    "## Clasificador Naive Bayes"
   ]
  },
  {
   "cell_type": "code",
   "execution_count": 5,
   "id": "497e7796-4ffe-4388-80a0-e4680e932e06",
   "metadata": {},
   "outputs": [],
   "source": [
    "model = GaussianNB()\n",
    "iris = pd.read_csv('iris_clean.csv')\n",
    "diabetes = pd.read_csv('dataset/diabetes.csv')\n",
    "parkinsons = pd.read_csv('dataset/parkinsons_disease_data.csv')"
   ]
  },
  {
   "cell_type": "markdown",
   "id": "af4cb4aa-c892-4426-a88b-0f4b46f8408e",
   "metadata": {},
   "source": [
    "## Dataset iris"
   ]
  },
  {
   "cell_type": "code",
   "execution_count": 6,
   "id": "dd0fe207-3618-4e7f-b4aa-7000e136d3de",
   "metadata": {},
   "outputs": [
    {
     "name": "stdout",
     "output_type": "stream",
     "text": [
      "    Hold-out\n",
      "Matriz de Confusión:\n",
      "[[15  0  0]\n",
      " [ 0 14  1]\n",
      " [ 0  3 12]]\n",
      "\n",
      "Precisión 0.9111111111111111\n",
      "\n",
      "    K-Fold\n",
      "Matriz de Confusión:\n",
      "[[50.  0.  0.]\n",
      " [ 0. 47.  3.]\n",
      " [ 0.  4. 46.]]\n",
      "\n",
      "Precisión: 0.9533333333333334\n",
      "\n",
      "    Leave-One-Out\n",
      "Matriz de Confusión acumulada:\n",
      "[[50.  0.  0.]\n",
      " [ 0. 47.  3.]\n",
      " [ 0.  4. 46.]]\n",
      "\n",
      "Precisión promedio: 0.9533333333333334\n"
     ]
    }
   ],
   "source": [
    "irisX = iris.drop(columns=['class','class_encoded'], axis = 1)\n",
    "irisY = iris['class_encoded']\n",
    "\n",
    "# Validación Holdout\n",
    "X_train, X_test, y_train, y_test = holdout_validation(irisX,irisY)\n",
    "model.fit(X_train, y_train)\n",
    "yPredict = model.predict(X_test)\n",
    "\n",
    "conf_matrix = confusion_matrix(y_test, yPredict)\n",
    "accuracy = accuracy_score(y_test, yPredict)\n",
    "\n",
    "print(\"    Hold-out\")\n",
    "print(\"Matriz de Confusión:\")\n",
    "print(conf_matrix)\n",
    "print(\"\\nPrecisión\", accuracy)\n",
    "\n",
    "# Validación K-Fold\n",
    "folds = k_fold_cross_validation(irisX, irisY)\n",
    "conf_matrix_kfold = np.zeros((len(set(y_train)), len(set(y_train))))\n",
    "accuracy_kfold = []\n",
    "\n",
    "for X_train, X_test, Y_train, Y_test in folds:\n",
    "    model.fit(X_train, Y_train)\n",
    "    y_pred_fold = model.predict(X_test)\n",
    "    conf_matrix_kfold += confusion_matrix(Y_test, y_pred_fold)\n",
    "    accuracy_kfold.append(accuracy_score(Y_test, y_pred_fold))\n",
    "    \n",
    "average_accuracy_kfold = np.mean(accuracy_kfold)\n",
    "\n",
    "print(\"\\n    K-Fold\")\n",
    "print(\"Matriz de Confusión:\")\n",
    "print(conf_matrix_kfold)\n",
    "print(\"\\nPrecisión:\", average_accuracy_kfold)\n",
    "\n",
    "\n",
    "# Validación leave one out\n",
    "num_clases = len(np.unique(irisY))\n",
    "conf_matrix_leave = np.zeros((num_clases, num_clases))\n",
    "\n",
    "accuracy_leave = []\n",
    "foldsOne = leave_one_out_validation(irisX,irisY)\n",
    "for X_train, X_test, Y_train, Y_test in foldsOne:\n",
    "    model.fit(X_train, Y_train)\n",
    "    y_pred_fold = model.predict(X_test)\n",
    "    conf_matrix_leave += confusion_matrix(Y_test, y_pred_fold,labels=range(num_clases))\n",
    "    accuracy_leave.append(accuracy_score(Y_test, y_pred_fold))\n",
    "\n",
    "# Calcular la precisión promedio\n",
    "average_accuracy_leave = np.mean(accuracy_leave)\n",
    "\n",
    "# Mostrar resultados\n",
    "print(\"\\n    Leave-One-Out\")\n",
    "print(\"Matriz de Confusión acumulada:\")\n",
    "print(conf_matrix_leave)\n",
    "print(\"\\nPrecisión promedio:\", average_accuracy_leave)"
   ]
  },
  {
   "cell_type": "markdown",
   "id": "5a68a876-ccb8-49c5-a24c-8b442a19a731",
   "metadata": {},
   "source": [
    "## Dataset diabetes"
   ]
  },
  {
   "cell_type": "code",
   "execution_count": 7,
   "id": "2b48ba81-08d8-448f-ab6d-e96bb67f14df",
   "metadata": {},
   "outputs": [
    {
     "name": "stdout",
     "output_type": "stream",
     "text": [
      "    Hold-out\n",
      "Matriz de Confusión:\n",
      "[[122  28]\n",
      " [ 31  50]]\n",
      "\n",
      "Precisión 0.7445887445887446\n",
      "\n",
      "    K-Fold\n",
      "Matriz de Confusión:\n",
      "[[417.  83.]\n",
      " [105. 163.]]\n",
      "\n",
      "Precisión: 0.7551606288448395\n",
      "\n",
      "    Leave-One-Out\n",
      "Matriz de Confusión acumulada:\n",
      "[[418.  82.]\n",
      " [107. 161.]]\n",
      "\n",
      "Precisión promedio: 0.75390625\n"
     ]
    }
   ],
   "source": [
    "diabetesX = diabetes.drop(columns=['Outcome'], axis = 1)\n",
    "diabetesY = diabetes['Outcome']\n",
    "\n",
    "# Validación Holdout\n",
    "X_train, X_test, y_train, y_test = holdout_validation(diabetesX,diabetesY)\n",
    "model.fit(X_train, y_train)\n",
    "yPredict = model.predict(X_test)\n",
    "\n",
    "conf_matrix = confusion_matrix(y_test, yPredict)\n",
    "accuracy = accuracy_score(y_test, yPredict)\n",
    "\n",
    "print(\"    Hold-out\")\n",
    "print(\"Matriz de Confusión:\")\n",
    "print(conf_matrix)\n",
    "print(\"\\nPrecisión\", accuracy)\n",
    "\n",
    "# Validación K-Fold\n",
    "folds = k_fold_cross_validation(diabetesX, diabetesY)\n",
    "conf_matrix_kfold = np.zeros((len(set(y_train)), len(set(y_train))))\n",
    "accuracy_kfold = []\n",
    "\n",
    "for X_train, X_test, Y_train, Y_test in folds:\n",
    "    model.fit(X_train, Y_train)\n",
    "    y_pred_fold = model.predict(X_test)\n",
    "    conf_matrix_kfold += confusion_matrix(Y_test, y_pred_fold)\n",
    "    accuracy_kfold.append(accuracy_score(Y_test, y_pred_fold))\n",
    "    \n",
    "average_accuracy_kfold = np.mean(accuracy_kfold)\n",
    "\n",
    "print(\"\\n    K-Fold\")\n",
    "print(\"Matriz de Confusión:\")\n",
    "print(conf_matrix_kfold)\n",
    "print(\"\\nPrecisión:\", average_accuracy_kfold)\n",
    "\n",
    "# Validacion leave one out\n",
    "\n",
    "num_clases = len(np.unique(diabetesY))\n",
    "conf_matrix_leave = np.zeros((num_clases, num_clases))\n",
    "\n",
    "accuracy_leave = []\n",
    "foldsOne = leave_one_out_validation(diabetesX,diabetesY)\n",
    "for X_train, X_test, Y_train, Y_test in foldsOne:\n",
    "    model.fit(X_train, Y_train)\n",
    "    y_pred_fold = model.predict(X_test)\n",
    "    conf_matrix_leave += confusion_matrix(Y_test, y_pred_fold,labels=range(num_clases))\n",
    "    accuracy_leave.append(accuracy_score(Y_test, y_pred_fold))\n",
    "\n",
    "# Calcular la precisión promedio\n",
    "average_accuracy_leave = np.mean(accuracy_leave)\n",
    "\n",
    "# Mostrar resultados\n",
    "print(\"\\n    Leave-One-Out\")\n",
    "print(\"Matriz de Confusión acumulada:\")\n",
    "print(conf_matrix_leave)\n",
    "print(\"\\nPrecisión promedio:\", average_accuracy_leave)"
   ]
  },
  {
   "cell_type": "markdown",
   "id": "423b3367-fffb-4ab7-b9b6-e2a5d857c6b3",
   "metadata": {},
   "source": [
    "## Dataset parkinsons"
   ]
  },
  {
   "cell_type": "code",
   "execution_count": 8,
   "id": "7e5566a3-a91b-4c71-b863-1a62ae431738",
   "metadata": {},
   "outputs": [],
   "source": [
    "featuresParkinsons = parkinsons[['UPDRS','FunctionalAssessment','MoCA','Tremor','Rigidity','Bradykinesia','Age','DietQuality',\n",
    "                                 'CholesterolTotal','CholesterolLDL','CholesterolTriglycerides','SystolicBP','CholesterolHDL',\n",
    "                                 'AlcoholConsumption','Diagnosis']]"
   ]
  },
  {
   "cell_type": "code",
   "execution_count": 9,
   "id": "6d4d00f4-2ac1-43af-9ee0-c22300dc4d6c",
   "metadata": {},
   "outputs": [
    {
     "name": "stdout",
     "output_type": "stream",
     "text": [
      "    Hold-out\n",
      "Matriz de Confusión:\n",
      "[[173  67]\n",
      " [ 60 332]]\n",
      "\n",
      "Precisión 0.7990506329113924\n",
      "\n",
      "    K-Fold\n",
      "Matriz de Confusión:\n",
      "[[ 563.  238.]\n",
      " [ 185. 1119.]]\n",
      "\n",
      "Precisión: 0.7990273076055067\n",
      "\n",
      "    Leave-One-Out\n",
      "Matriz de Confusión acumulada:\n",
      "[[ 554.  247.]\n",
      " [ 181. 1123.]]\n",
      "\n",
      "Precisión promedio: 0.7966745843230404\n"
     ]
    }
   ],
   "source": [
    "parkinsonsX = featuresParkinsons.drop(columns=['Diagnosis'], axis = 1)\n",
    "parkinsonsY = featuresParkinsons['Diagnosis']\n",
    "\n",
    "# Validación Holdout\n",
    "X_train, X_test, y_train, y_test = holdout_validation(parkinsonsX,parkinsonsY)\n",
    "model.fit(X_train, y_train)\n",
    "yPredict = model.predict(X_test)\n",
    "\n",
    "conf_matrix = confusion_matrix(y_test, yPredict)\n",
    "accuracy = accuracy_score(y_test, yPredict)\n",
    "\n",
    "print(\"    Hold-out\")\n",
    "print(\"Matriz de Confusión:\")\n",
    "print(conf_matrix)\n",
    "print(\"\\nPrecisión\", accuracy)\n",
    "\n",
    "# Validación K-Fold\n",
    "folds = k_fold_cross_validation(parkinsonsX, parkinsonsY)\n",
    "conf_matrix_kfold = np.zeros((len(set(y_train)), len(set(y_train))))\n",
    "accuracy_kfold = []\n",
    "\n",
    "for X_train, X_test, Y_train, Y_test in folds:\n",
    "    model.fit(X_train, Y_train)\n",
    "    y_pred_fold = model.predict(X_test)\n",
    "    conf_matrix_kfold += confusion_matrix(Y_test, y_pred_fold)\n",
    "    accuracy_kfold.append(accuracy_score(Y_test, y_pred_fold))\n",
    "    \n",
    "average_accuracy_kfold = np.mean(accuracy_kfold)\n",
    "\n",
    "print(\"\\n    K-Fold\")\n",
    "print(\"Matriz de Confusión:\")\n",
    "print(conf_matrix_kfold)\n",
    "print(\"\\nPrecisión:\", average_accuracy_kfold)\n",
    "\n",
    "# Validacion leave one out\n",
    "\n",
    "num_clases = len(np.unique(parkinsonsY))\n",
    "conf_matrix_leave = np.zeros((num_clases, num_clases))\n",
    "\n",
    "accuracy_leave = []\n",
    "foldsOne = leave_one_out_validation(parkinsonsX,parkinsonsY)\n",
    "for X_train, X_test, Y_train, Y_test in foldsOne:\n",
    "    model.fit(X_train, Y_train)\n",
    "    y_pred_fold = model.predict(X_test)\n",
    "    conf_matrix_leave += confusion_matrix(Y_test, y_pred_fold,labels=range(num_clases))\n",
    "    accuracy_leave.append(accuracy_score(Y_test, y_pred_fold))\n",
    "\n",
    "# Calcular la precisión promedio\n",
    "average_accuracy_leave = np.mean(accuracy_leave)\n",
    "\n",
    "# Mostrar resultados\n",
    "print(\"\\n    Leave-One-Out\")\n",
    "print(\"Matriz de Confusión acumulada:\")\n",
    "print(conf_matrix_leave)\n",
    "print(\"\\nPrecisión promedio:\", average_accuracy_leave)"
   ]
  }
 ],
 "metadata": {
  "kernelspec": {
   "display_name": "Python (myenv)",
   "language": "python",
   "name": "venv"
  },
  "language_info": {
   "codemirror_mode": {
    "name": "ipython",
    "version": 3
   },
   "file_extension": ".py",
   "mimetype": "text/x-python",
   "name": "python",
   "nbconvert_exporter": "python",
   "pygments_lexer": "ipython3",
   "version": "3.12.7"
  }
 },
 "nbformat": 4,
 "nbformat_minor": 5
}
