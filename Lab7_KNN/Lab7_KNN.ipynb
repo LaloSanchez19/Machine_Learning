{
 "cells": [
  {
   "cell_type": "markdown",
   "metadata": {},
   "source": [
    "## Clasificador KNN"
   ]
  },
  {
   "cell_type": "code",
   "execution_count": 1,
   "metadata": {},
   "outputs": [],
   "source": [
    "import pandas as pd\n",
    "import numpy as np\n",
    "import math\n",
    "from collections import Counter\n",
    "from sklearn.model_selection import train_test_split\n",
    "from sklearn.model_selection import StratifiedKFold\n",
    "from sklearn.model_selection import LeaveOneOut\n",
    "from sklearn.metrics import confusion_matrix, accuracy_score "
   ]
  },
  {
   "cell_type": "code",
   "execution_count": 2,
   "metadata": {},
   "outputs": [],
   "source": [
    "obesity = pd.read_csv('dataset/obesity_clean.csv')\n",
    "parkinsons = pd.read_csv(\"dataset/parkinsons_disease_data.csv\")\n",
    "diabetes = pd.read_csv(\"dataset/diabetes.csv\")"
   ]
  },
  {
   "cell_type": "code",
   "execution_count": 3,
   "metadata": {},
   "outputs": [],
   "source": [
    "featuresObesity = obesity[['Height','Weight','BMI','ObesityCategory_encoded']]\n",
    "featuresDiabetes = diabetes[['Pregnancies','Glucose','BloodPressure','SkinThickness','Insulin','BMI','Pedigree','Age','Outcome']]\n",
    "featuresParkinsons = parkinsons[['UPDRS','FunctionalAssessment','MoCA','Tremor','Rigidity','Bradykinesia','Age','DietQuality',\n",
    "                                 'CholesterolTotal','CholesterolLDL','CholesterolTriglycerides','SystolicBP','CholesterolHDL',\n",
    "                                 'AlcoholConsumption','Diagnosis']]"
   ]
  },
  {
   "cell_type": "markdown",
   "metadata": {},
   "source": [
    "## Metodos de validacion"
   ]
  },
  {
   "cell_type": "markdown",
   "metadata": {},
   "source": [
    "### Holdout"
   ]
  },
  {
   "cell_type": "code",
   "execution_count": 4,
   "metadata": {},
   "outputs": [],
   "source": [
    "def holdout_validation(X,y):\n",
    "    X_train, X_test, y_train, y_test = train_test_split(X, y, test_size=0.3,stratify=y,random_state=42)\n",
    "    return X_train, X_test, y_train, y_test"
   ]
  },
  {
   "cell_type": "markdown",
   "metadata": {},
   "source": [
    "### Fold Cross-Validation"
   ]
  },
  {
   "cell_type": "code",
   "execution_count": 5,
   "metadata": {},
   "outputs": [],
   "source": [
    "def k_fold_cross_validation(X, y, K=10):\n",
    "    X = X.apply(pd.to_numeric, errors='coerce')\n",
    "    y = pd.to_numeric(y, errors='coerce')\n",
    "    \n",
    "    X = X.fillna(X.mean())\n",
    "    \n",
    "    skf = StratifiedKFold(n_splits=K, shuffle=True, random_state=42)\n",
    "    folds = []\n",
    "\n",
    "    for train_index, test_index in skf.split(X, y):\n",
    "        X_train, X_test = X.iloc[train_index].values, X.iloc[test_index].values\n",
    "        y_train, y_test = y.iloc[train_index].values, y.iloc[test_index].values\n",
    "        \n",
    "        folds.append((X_train, X_test, y_train, y_test))\n",
    "    \n",
    "    return folds\n"
   ]
  },
  {
   "cell_type": "markdown",
   "metadata": {},
   "source": [
    "### Leave-One-Out"
   ]
  },
  {
   "cell_type": "code",
   "execution_count": 6,
   "metadata": {},
   "outputs": [],
   "source": [
    "def leave_one_out_validation(X, y):\n",
    "    X = X.apply(pd.to_numeric, errors='coerce')\n",
    "    X = X.fillna(X.mean())\n",
    "    \n",
    "    loo = LeaveOneOut()\n",
    "    leaveVali = []\n",
    "    \n",
    "    for train_index, test_index in loo.split(X):\n",
    "        # Tomar los datos de entrenamiento y prueba como matrices numpy\n",
    "        X_train, X_test = X.iloc[train_index].values, X.iloc[test_index].values\n",
    "        y_train, y_test = y.iloc[train_index].values, y.iloc[test_index].values\n",
    "        \n",
    "        leaveVali.append((X_train, X_test, y_train, y_test))\n",
    "\n",
    "    return leaveVali"
   ]
  },
  {
   "cell_type": "markdown",
   "metadata": {},
   "source": [
    "## Clasificador KNN"
   ]
  },
  {
   "cell_type": "code",
   "execution_count": 7,
   "metadata": {},
   "outputs": [],
   "source": [
    "def knn(X_train, y_train, X_test, k):\n",
    "    clases = []\n",
    "    for punto_prueba in X_test:\n",
    "        distancias = []\n",
    "        for i, punto_entrenamiento in enumerate(X_train):\n",
    "            # Cálculo de la distancia Euclidiana\n",
    "            distancia = math.sqrt(sum((t - x) ** 2 for t, x in zip(punto_entrenamiento, punto_prueba)))\n",
    "            distancias.append((distancia, y_train[i]))  # y_train[i] debe ser un valor individual, no un array\n",
    "        \n",
    "        # Ordenar distancias y obtener las k etiquetas más cercanas\n",
    "        distancias.sort(key=lambda x: x[0])\n",
    "        k_cercanos = [n for _, n in distancias[:k]]\n",
    "        \n",
    "        # Seleccionar la clase más común\n",
    "        mas_comun = Counter(k_cercanos).most_common(1)[0][0]\n",
    "        clases.append(mas_comun)\n",
    "    \n",
    "    return clases\n"
   ]
  },
  {
   "cell_type": "code",
   "execution_count": 8,
   "metadata": {},
   "outputs": [
    {
     "name": "stdout",
     "output_type": "stream",
     "text": [
      "\n",
      " Validaciones para el Dataset Obesity \n",
      "\n",
      "    Hold-out\n",
      "Matriz de Confusión:\n",
      "[[109   0   2   0]\n",
      " [  0  55   2   0]\n",
      " [  3   0  86   0]\n",
      " [  2   0   0  41]]\n",
      "\n",
      "Precisión 0.97\n",
      "\n",
      "    K-Fold\n",
      "Matriz de Confusión:\n",
      "[[366.   0.   3.   2.]\n",
      " [  0. 181.  10.   0.]\n",
      " [  7.   5. 283.   0.]\n",
      " [  6.   0.   0. 137.]]\n",
      "\n",
      "Precisión: 0.9670000000000002\n",
      "\n",
      "    Leave-One-Out\n",
      "Matriz de Confusión:\n",
      "[[365.   0.   5.   1.]\n",
      " [  0. 182.   9.   0.]\n",
      " [  6.   4. 285.   0.]\n",
      " [  5.   0.   0. 138.]]\n",
      "\n",
      "Precisión: 0.97\n"
     ]
    }
   ],
   "source": [
    "# Dataset Obesity\n",
    "\n",
    "print(\"\\n Validaciones para el Dataset Obesity \\n\")\n",
    "X = featuresObesity[['Height', 'Weight', 'BMI']]\n",
    "Y = featuresObesity['ObesityCategory_encoded']\n",
    "\n",
    "k_obesity = 5\n",
    "\n",
    "# Validación Holdout\n",
    "obesityX_train, obesityX_test, obesityY_train, obesityY_test = holdout_validation(X.values, Y.values)\n",
    "predicciones_knn = knn(obesityX_train, obesityY_train, obesityX_test, k_obesity)\n",
    "conf_matrix_knn = confusion_matrix(obesityY_test, predicciones_knn)\n",
    "accuracy_knn = accuracy_score(obesityY_test, predicciones_knn)\n",
    "\n",
    "print(\"    Hold-out\")\n",
    "print(\"Matriz de Confusión:\")\n",
    "print(conf_matrix_knn)\n",
    "print(\"\\nPrecisión\", accuracy_knn)\n",
    "\n",
    "# Validación K-Fold\n",
    "folds = k_fold_cross_validation(X, Y)\n",
    "conf_matrix_kfold = np.zeros((len(set(Y)), len(set(Y))))\n",
    "accuracy_kfold = []\n",
    "\n",
    "for obesityX_train, obesityX_test, obesityY_train, obesityY_test in folds: \n",
    "    predicciones_knn = knn(obesityX_train, obesityY_train, obesityX_test, k_obesity)\n",
    "    conf_matrix_kfold += confusion_matrix(obesityY_test, predicciones_knn)\n",
    "    accuracy_kfold.append(accuracy_score(obesityY_test, predicciones_knn))\n",
    "\n",
    "average_accuracy_kfold = np.mean(accuracy_kfold)\n",
    "\n",
    "print(\"\\n    K-Fold\")\n",
    "print(\"Matriz de Confusión:\")\n",
    "print(conf_matrix_kfold)\n",
    "print(\"\\nPrecisión:\", average_accuracy_kfold)\n",
    "\n",
    "# Validación Leave-One-Out\n",
    "num_clases = len(set(Y))\n",
    "conf_matrix_leave_one_out = np.zeros((num_clases, num_clases))\n",
    "accuracy_leave_one_out = []\n",
    "\n",
    "# Ejecutar Leave-One-Out\n",
    "leaveVali = leave_one_out_validation(X, Y)\n",
    "for obesityX_train, obesityX_test, obesityY_train, obesityY_test in leaveVali:\n",
    "    predicciones_knn = knn(obesityX_train, obesityY_train, obesityX_test, k_obesity)\n",
    "    conf_matrix_leave_one_out += confusion_matrix(obesityY_test, predicciones_knn, labels=range(num_clases))\n",
    "    accuracy_leave_one_out.append(accuracy_score(obesityY_test, predicciones_knn))\n",
    "\n",
    "average_accuracy_leave_one_out = np.mean(accuracy_leave_one_out)\n",
    "\n",
    "print(\"\\n    Leave-One-Out\")\n",
    "print(\"Matriz de Confusión:\")\n",
    "print(conf_matrix_leave_one_out)\n",
    "print(\"\\nPrecisión:\", average_accuracy_leave_one_out)"
   ]
  },
  {
   "cell_type": "code",
   "execution_count": 9,
   "metadata": {},
   "outputs": [
    {
     "name": "stdout",
     "output_type": "stream",
     "text": [
      "\n",
      " Validaciones para el Dataset Parkinsons \n",
      "\n",
      "    Hold-out\n",
      "Matriz de Confusión:\n",
      "[[124 116]\n",
      " [ 67 325]]\n",
      "\n",
      "Precisión 0.7104430379746836\n",
      "\n",
      "    K-Fold\n",
      "Matriz de Confusión:\n",
      "[[ 403.  398.]\n",
      " [ 219. 1085.]]\n",
      "\n",
      "Precisión: 0.7068742947415932\n",
      "\n",
      "    Leave-One-Out\n",
      "Matriz de Confusión:\n",
      "[[ 411.  390.]\n",
      " [ 205. 1099.]]\n",
      "\n",
      "Precisión: 0.7173396674584323\n"
     ]
    }
   ],
   "source": [
    "# Dataset parkinson\n",
    "\n",
    "print(\"\\n Validaciones para el Dataset Parkinsons \\n\")\n",
    "X = featuresParkinsons[['UPDRS','FunctionalAssessment','MoCA','Tremor','Rigidity','Bradykinesia','Age','DietQuality',\n",
    "                        'CholesterolTotal','CholesterolLDL','CholesterolTriglycerides','SystolicBP','CholesterolHDL','AlcoholConsumption']]\n",
    "Y = featuresParkinsons['Diagnosis']\n",
    "\n",
    "k_parkinson = 5\n",
    "\n",
    "# Validación Holdout\n",
    "parkinsonsX_train, parkinsonsX_test, parkinsonsY_train, parkinsonsY_test = holdout_validation(X, Y)\n",
    "predicciones_knn = knn(parkinsonsX_train.values, parkinsonsY_train.values, parkinsonsX_test.values, k_parkinson)\n",
    "conf_matrix_knn = confusion_matrix(parkinsonsY_test, predicciones_knn)\n",
    "accuracy_knn = accuracy_score(parkinsonsY_test, predicciones_knn)\n",
    "\n",
    "print(\"    Hold-out\")\n",
    "print(\"Matriz de Confusión:\")\n",
    "print(conf_matrix_knn)\n",
    "print(\"\\nPrecisión\", accuracy_knn)\n",
    "\n",
    "# Validación K-Fold\n",
    "folds = k_fold_cross_validation(X, Y)\n",
    "conf_matrix_kfold = np.zeros((len(set(Y)), len(set(Y))))\n",
    "accuracy_kfold = []\n",
    "\n",
    "for parkinsonsX_train, parkinsonsX_test, parkinsonsY_train, parkinsonsY_test in folds:\n",
    "    predicciones_knn = knn(parkinsonsX_train, parkinsonsY_train, parkinsonsX_test, k_parkinson)\n",
    "    conf_matrix_kfold += confusion_matrix(parkinsonsY_test, predicciones_knn)\n",
    "    accuracy_kfold.append(accuracy_score(parkinsonsY_test, predicciones_knn))\n",
    "\n",
    "average_accuracy_kfold = np.mean(accuracy_kfold)\n",
    "\n",
    "print(\"\\n    K-Fold\")\n",
    "print(\"Matriz de Confusión:\")\n",
    "print(conf_matrix_kfold)\n",
    "print(\"\\nPrecisión:\", average_accuracy_kfold)\n",
    "\n",
    "# Validación Leave-One-Out\n",
    "num_clases = len(set(Y))\n",
    "conf_matrix_leave_one_out = np.zeros((num_clases, num_clases))\n",
    "accuracy_leave_one_out = []\n",
    "\n",
    "# Ejecutar Leave-One-Out\n",
    "leaveVali = leave_one_out_validation(X, Y)\n",
    "for parkinsonsX_train, parkinsonsX_test, parkinsonsY_train, parkinsonsY_test in leaveVali:\n",
    "    predicciones_knn = knn(parkinsonsX_train, parkinsonsY_train, parkinsonsX_test, k_parkinson)\n",
    "    conf_matrix_leave_one_out += confusion_matrix(parkinsonsY_test, predicciones_knn, labels=range(num_clases))\n",
    "    accuracy_leave_one_out.append(accuracy_score(parkinsonsY_test, predicciones_knn))\n",
    "\n",
    "average_accuracy_leave_one_out = np.mean(accuracy_leave_one_out)\n",
    "\n",
    "print(\"\\n    Leave-One-Out\")\n",
    "print(\"Matriz de Confusión:\")\n",
    "print(conf_matrix_leave_one_out)\n",
    "print(\"\\nPrecisión:\", average_accuracy_leave_one_out)"
   ]
  },
  {
   "cell_type": "code",
   "execution_count": 10,
   "metadata": {},
   "outputs": [
    {
     "name": "stdout",
     "output_type": "stream",
     "text": [
      "\n",
      " Validaciones para el Dataset Diabetes \n",
      "\n",
      "    Hold-out\n",
      "Matriz de Confusión:\n",
      "[[125  25]\n",
      " [ 40  41]]\n",
      "\n",
      "Precisión 0.7186147186147186\n",
      "\n",
      "    K-Fold\n",
      "Matriz de Confusión:\n",
      "[[407.  93.]\n",
      " [129. 139.]]\n",
      "\n",
      "Precisión: 0.7108680792891319\n",
      "\n",
      "    Leave-One-Out\n",
      "Matriz de Confusión:\n",
      "[[409.  91.]\n",
      " [128. 140.]]\n",
      "\n",
      "Precisión: 0.71484375\n"
     ]
    }
   ],
   "source": [
    "# Dataset diabetes\n",
    "\n",
    "print(\"\\n Validaciones para el Dataset Diabetes \\n\")\n",
    "X = featuresDiabetes[['Pregnancies','Glucose','BloodPressure','SkinThickness','Insulin','BMI','Pedigree','Age']]\n",
    "Y = featuresDiabetes['Outcome']\n",
    "\n",
    "k_diabetes = 5\n",
    "\n",
    "# Validación Holdout\n",
    "diabetesX_train, diabetesX_test, diabetesY_train, diabetesY_test = holdout_validation(X, Y)\n",
    "predicciones_knn = knn(diabetesX_train.values, diabetesY_train.values, diabetesX_test.values, k_diabetes)\n",
    "conf_matrix_knn = confusion_matrix(diabetesY_test, predicciones_knn)\n",
    "accuracy_knn = accuracy_score(diabetesY_test, predicciones_knn)\n",
    "\n",
    "print(\"    Hold-out\")\n",
    "print(\"Matriz de Confusión:\")\n",
    "print(conf_matrix_knn)\n",
    "print(\"\\nPrecisión\", accuracy_knn)\n",
    "\n",
    "# Validación K-Fold\n",
    "folds = k_fold_cross_validation(X, Y)\n",
    "conf_matrix_kfold = np.zeros((len(set(Y)), len(set(Y))))\n",
    "accuracy_kfold = []\n",
    "\n",
    "for diabetesX_train, diabetesX_test, diabetesY_train, diabetesY_test in folds:  \n",
    "    predicciones_knn = knn(diabetesX_train, diabetesY_train, diabetesX_test, k_diabetes)\n",
    "    conf_matrix_kfold += confusion_matrix(diabetesY_test, predicciones_knn)\n",
    "    accuracy_kfold.append(accuracy_score(diabetesY_test, predicciones_knn))\n",
    "\n",
    "average_accuracy_kfold = np.mean(accuracy_kfold)\n",
    "\n",
    "print(\"\\n    K-Fold\")\n",
    "print(\"Matriz de Confusión:\")\n",
    "print(conf_matrix_kfold)\n",
    "print(\"\\nPrecisión:\", average_accuracy_kfold)\n",
    "\n",
    "# Validación Leave-One-Out\n",
    "num_clases = len(set(Y))\n",
    "conf_matrix_leave_one_out = np.zeros((num_clases, num_clases))\n",
    "accuracy_leave_one_out = []\n",
    "\n",
    "# Ejecutar Leave-One-Out\n",
    "leaveVali = leave_one_out_validation(X, Y)\n",
    "for diabetesX_train, diabetesX_test, diabetesY_train, diabetesY_test in leaveVali:\n",
    "    predicciones_knn = knn(diabetesX_train, diabetesY_train, diabetesX_test, k_diabetes)\n",
    "    conf_matrix_leave_one_out += confusion_matrix(diabetesY_test, predicciones_knn, labels=range(num_clases))\n",
    "    accuracy_leave_one_out.append(accuracy_score(diabetesY_test, predicciones_knn))\n",
    "\n",
    "average_accuracy_leave_one_out = np.mean(accuracy_leave_one_out)\n",
    "\n",
    "print(\"\\n    Leave-One-Out\")\n",
    "print(\"Matriz de Confusión:\")\n",
    "print(conf_matrix_leave_one_out)\n",
    "print(\"\\nPrecisión:\", average_accuracy_leave_one_out)"
   ]
  }
 ],
 "metadata": {
  "kernelspec": {
   "display_name": "Python (myenv)",
   "language": "python",
   "name": "venv"
  },
  "language_info": {
   "codemirror_mode": {
    "name": "ipython",
    "version": 3
   },
   "file_extension": ".py",
   "mimetype": "text/x-python",
   "name": "python",
   "nbconvert_exporter": "python",
   "pygments_lexer": "ipython3",
   "version": "3.12.7"
  }
 },
 "nbformat": 4,
 "nbformat_minor": 4
}
